{
 "cells": [
  {
   "cell_type": "code",
   "execution_count": 14,
   "id": "b5f3be3d",
   "metadata": {
    "ExecuteTime": {
     "end_time": "2022-03-03T13:34:25.088097Z",
     "start_time": "2022-03-03T13:34:25.071107Z"
    }
   },
   "outputs": [],
   "source": [
    "import numpy as np\n",
    "import pandas as pd\n",
    "import matplotlib.pyplot as plt\n",
    "import math"
   ]
  },
  {
   "cell_type": "code",
   "execution_count": 8,
   "id": "d0bb4aa0",
   "metadata": {
    "ExecuteTime": {
     "end_time": "2022-03-03T13:28:55.934726Z",
     "start_time": "2022-03-03T13:28:55.920740Z"
    }
   },
   "outputs": [],
   "source": [
    "# generate data\n",
    "def generate_data(n, beta_0, beta_1):\n",
    "    x = np.arange(n)\n",
    "    e = np.random.uniform(-10, 10, size = (n,))\n",
    "    y = beta_0 + beta_1 * x + e\n",
    "    \n",
    "    return x, y\n",
    "\n",
    "x, y = generate_data(100, 2, .4)"
   ]
  },
  {
   "cell_type": "code",
   "execution_count": 11,
   "id": "47d66492",
   "metadata": {
    "ExecuteTime": {
     "end_time": "2022-03-03T13:29:44.061027Z",
     "start_time": "2022-03-03T13:29:44.037047Z"
    }
   },
   "outputs": [
    {
     "data": {
      "text/html": [
       "<div>\n",
       "<style scoped>\n",
       "    .dataframe tbody tr th:only-of-type {\n",
       "        vertical-align: middle;\n",
       "    }\n",
       "\n",
       "    .dataframe tbody tr th {\n",
       "        vertical-align: top;\n",
       "    }\n",
       "\n",
       "    .dataframe thead th {\n",
       "        text-align: right;\n",
       "    }\n",
       "</style>\n",
       "<table border=\"1\" class=\"dataframe\">\n",
       "  <thead>\n",
       "    <tr style=\"text-align: right;\">\n",
       "      <th></th>\n",
       "      <th>X</th>\n",
       "      <th>Y</th>\n",
       "    </tr>\n",
       "  </thead>\n",
       "  <tbody>\n",
       "    <tr>\n",
       "      <th>0</th>\n",
       "      <td>0</td>\n",
       "      <td>-5.164294</td>\n",
       "    </tr>\n",
       "    <tr>\n",
       "      <th>1</th>\n",
       "      <td>1</td>\n",
       "      <td>7.187078</td>\n",
       "    </tr>\n",
       "    <tr>\n",
       "      <th>2</th>\n",
       "      <td>2</td>\n",
       "      <td>2.598918</td>\n",
       "    </tr>\n",
       "    <tr>\n",
       "      <th>3</th>\n",
       "      <td>3</td>\n",
       "      <td>-5.856688</td>\n",
       "    </tr>\n",
       "    <tr>\n",
       "      <th>4</th>\n",
       "      <td>4</td>\n",
       "      <td>-4.895588</td>\n",
       "    </tr>\n",
       "    <tr>\n",
       "      <th>...</th>\n",
       "      <td>...</td>\n",
       "      <td>...</td>\n",
       "    </tr>\n",
       "    <tr>\n",
       "      <th>95</th>\n",
       "      <td>95</td>\n",
       "      <td>49.707789</td>\n",
       "    </tr>\n",
       "    <tr>\n",
       "      <th>96</th>\n",
       "      <td>96</td>\n",
       "      <td>49.637589</td>\n",
       "    </tr>\n",
       "    <tr>\n",
       "      <th>97</th>\n",
       "      <td>97</td>\n",
       "      <td>41.902052</td>\n",
       "    </tr>\n",
       "    <tr>\n",
       "      <th>98</th>\n",
       "      <td>98</td>\n",
       "      <td>36.435145</td>\n",
       "    </tr>\n",
       "    <tr>\n",
       "      <th>99</th>\n",
       "      <td>99</td>\n",
       "      <td>39.450550</td>\n",
       "    </tr>\n",
       "  </tbody>\n",
       "</table>\n",
       "<p>100 rows × 2 columns</p>\n",
       "</div>"
      ],
      "text/plain": [
       "     X          Y\n",
       "0    0  -5.164294\n",
       "1    1   7.187078\n",
       "2    2   2.598918\n",
       "3    3  -5.856688\n",
       "4    4  -4.895588\n",
       "..  ..        ...\n",
       "95  95  49.707789\n",
       "96  96  49.637589\n",
       "97  97  41.902052\n",
       "98  98  36.435145\n",
       "99  99  39.450550\n",
       "\n",
       "[100 rows x 2 columns]"
      ]
     },
     "execution_count": 11,
     "metadata": {},
     "output_type": "execute_result"
    }
   ],
   "source": [
    "# turning generated data points into pandas dataframe\n",
    "zipped = list(zip(x, y))\n",
    "df = pd.DataFrame(zipped, columns=['X', 'Y'])\n",
    "df"
   ]
  },
  {
   "cell_type": "code",
   "execution_count": 13,
   "id": "ee2253db",
   "metadata": {
    "ExecuteTime": {
     "end_time": "2022-03-03T13:32:46.324395Z",
     "start_time": "2022-03-03T13:32:46.202451Z"
    }
   },
   "outputs": [
    {
     "data": {
      "text/plain": [
       "<matplotlib.collections.PathCollection at 0x1ce9d22d4f0>"
      ]
     },
     "execution_count": 13,
     "metadata": {},
     "output_type": "execute_result"
    },
    {
     "data": {
      "image/png": "[encoded data removed]",
      "text/plain": [
       "<Figure size 432x288 with 1 Axes>"
      ]
     },
     "metadata": {
      "needs_background": "light"
     },
     "output_type": "display_data"
    }
   ],
   "source": [
    "plt.scatter(x, y)"
   ]
  },
  {
   "cell_type": "code",
   "execution_count": 18,
   "id": "d5d790cc",
   "metadata": {
    "ExecuteTime": {
     "end_time": "2022-03-03T13:51:31.976821Z",
     "start_time": "2022-03-03T13:51:31.968828Z"
    }
   },
   "outputs": [],
   "source": [
    "def cal_mean(readings):\n",
    "    \"\"\"\n",
    "    Function to calculate the mean value of the input readings\n",
    "    :param readings:\n",
    "    :return:\n",
    "    \"\"\"\n",
    "    #calculating sum of readings and storing in the readings_total\n",
    "    readings_total = sum(readings) \n",
    "    #find the number of readings by using len function\n",
    "    number_of_readings = len(readings)\n",
    "    #calculating mean\n",
    "    mean = readings_total / float(number_of_readings)\n",
    "    return mean"
   ]
  },
  {
   "cell_type": "code",
   "execution_count": 21,
   "id": "d3684397",
   "metadata": {
    "ExecuteTime": {
     "end_time": "2022-03-03T13:54:49.680187Z",
     "start_time": "2022-03-03T13:54:49.674191Z"
    }
   },
   "outputs": [],
   "source": [
    "def cal_variance(readings):\n",
    "    \"\"\"Calculating the variance of the readings\n",
    "    :param readings:\n",
    "    :return:\n",
    "    \"\"\"\n",
    "    \n",
    "    #to calculate the variance, we need the mean value\n",
    "    readings_mean = cal_mean(readings)\n",
    "    # mean difference squared readings\n",
    "    mean_difference_squared_readings = [pow((reading - readings_mean), 2) for reading in readings]\n",
    "    variance = sum(mean_difference_squared_readings)\n",
    "    \n",
    "    return variance / float(len(readings) - 1)"
   ]
  },
  {
   "cell_type": "code",
   "execution_count": 20,
   "id": "f1c52437",
   "metadata": {
    "ExecuteTime": {
     "end_time": "2022-03-03T13:52:02.731663Z",
     "start_time": "2022-03-03T13:52:02.723667Z"
    }
   },
   "outputs": [],
   "source": [
    "def cal_covariance(readings_1, readings_2):\n",
    "    \"\"\"Calculate the covariance between two different list of readings\n",
    "    :param readings_1:\n",
    "    :param readings_2:\n",
    "    :return:\n",
    "    \"\"\"\n",
    "    \n",
    "    #to calculate covariance, we need to calculate the mean of the series\n",
    "    readings_1_mean = cal_mean(readings_1)\n",
    "    readings_2_mean = cal_mean(readings_2)\n",
    "    \n",
    "    readings_size = len(readings_1)\n",
    "    covariance = 0.0\n",
    "    \n",
    "    for i in range(0, readings_size):\n",
    "        covariance += (readings_1[i] - readings_1_mean) * (readings_2[i] - readings_2_mean)\n",
    "    \n",
    "    return covariance / float(readings_size - 1)"
   ]
  },
  {
   "cell_type": "code",
   "execution_count": 22,
   "id": "0b29efb2",
   "metadata": {
    "ExecuteTime": {
     "end_time": "2022-03-03T13:56:33.646954Z",
     "start_time": "2022-03-03T13:56:33.631950Z"
    }
   },
   "outputs": [],
   "source": [
    "def cal_coefficients(x_readings, y_readings):\n",
    "    \"\"\"Calculating the simple linear regression coefficients B0, B1\n",
    "    :param x_readings:\n",
    "    :param y_readings:\n",
    "    :return:\n",
    "    \"\"\"\n",
    "    #Coefficient W1 = covariance of x_readings and y_readings divided by variance of x_readings\n",
    "    w1 = cal_covariance(x_readings, y_readings) / float(cal_variance(x_readings))\n",
    "    \n",
    "    # Coefficient W0 = mean of y_readings - (W1 * the mean of the x_readings)\n",
    "    w0 = cal_mean(y_readings) - (w1 * cal_mean(x_readings))\n",
    "    \n",
    "    return w0, w1"
   ]
  },
  {
   "cell_type": "code",
   "execution_count": 23,
   "id": "f898d464",
   "metadata": {
    "ExecuteTime": {
     "end_time": "2022-03-03T14:00:13.127220Z",
     "start_time": "2022-03-03T14:00:13.113215Z"
    }
   },
   "outputs": [],
   "source": [
    "def get_headers(dataframe):\n",
    "    \"\"\"Get the headers name of the dataframe\n",
    "    \"\"\"\n",
    "    return dataframe.columns.values"
   ]
  },
  {
   "cell_type": "code",
   "execution_count": 32,
   "id": "59fb08f6",
   "metadata": {
    "ExecuteTime": {
     "end_time": "2022-03-03T14:13:41.522380Z",
     "start_time": "2022-03-03T14:13:41.514380Z"
    }
   },
   "outputs": [],
   "source": [
    "def cal_rmse(actual_readings, predicted_readings):\n",
    "    \"\"\"Calculating the root mean square error\n",
    "    :param actual_readings:\n",
    "    :param predicted_readings:\n",
    "    :return:\n",
    "    \"\"\"\n",
    "    \n",
    "    square_error_total = 0.0\n",
    "    total_readings = len(actual_readings)\n",
    "    \n",
    "    for i in range(0, total_readings):\n",
    "        error = predicted_readings[i] - actual_readings[i]\n",
    "        square_error_total += pow(error, 2)\n",
    "    rmse = square_error_total / float(total_readings)\n",
    "    \n",
    "    return rmse"
   ]
  },
  {
   "cell_type": "code",
   "execution_count": 43,
   "id": "52a755a7",
   "metadata": {
    "ExecuteTime": {
     "end_time": "2022-03-03T14:52:38.914859Z",
     "start_time": "2022-03-03T14:52:38.904865Z"
    }
   },
   "outputs": [],
   "source": [
    "def simple_linear_regression(dataset):\n",
    "    \"\"\"Implementing the simple linear regression without using any python\n",
    "    library\n",
    "    :param dataset:\n",
    "    :return:\n",
    "    \"\"\"\n",
    "    \n",
    "    #Get the dataset header names\n",
    "    dataset_headers = get_headers(dataset)\n",
    "    print(\"Dataset Headers ::\", dataset_headers)\n",
    "    \n",
    "    #Calculate the mean of x and y readings\n",
    "    x_mean = cal_mean(dataset[dataset_headers[0]])\n",
    "    y_mean = cal_mean(dataset[dataset_headers[1]])\n",
    "    \n",
    "    #Calculate variance\n",
    "    x_variance = cal_variance(dataset[dataset_headers[0]])\n",
    "    y_variance = cal_variance(dataset[dataset_headers[1]])\n",
    "    \n",
    "    #Calculating the regression\n",
    "    covariance_of_X_and_Y = dataset.cov()[dataset_headers[0]][dataset_headers[1]]\n",
    "    w1 = covariance_of_X_and_Y / float(x_variance)\n",
    "    \n",
    "    w0 = y_mean - (w1 * x_mean)\n",
    "    \n",
    "    #Predictions\n",
    "    dataset['Predicted'] = w0 + w1 * dataset[dataset_headers[0]]\n",
    "    \n",
    "    #RMSE\n",
    "    rmse = cal_rmse(dataset[dataset_headers[1]],dataset[dataset_headers[2]])\n",
    "    print(\"RMSE ::\",rmse)\n",
    "    \n",
    "    \n",
    "    return dataset"
   ]
  },
  {
   "cell_type": "code",
   "execution_count": 44,
   "id": "391f6a32",
   "metadata": {
    "ExecuteTime": {
     "end_time": "2022-03-03T14:52:41.284991Z",
     "start_time": "2022-03-03T14:52:41.261990Z"
    }
   },
   "outputs": [
    {
     "name": "stdout",
     "output_type": "stream",
     "text": [
      "Dataset Headers :: ['X' 'Y' 'Predicted']\n",
      "RMSE :: 34.651102709993204\n"
     ]
    },
    {
     "data": {
      "text/html": [
       "<div>\n",
       "<style scoped>\n",
       "    .dataframe tbody tr th:only-of-type {\n",
       "        vertical-align: middle;\n",
       "    }\n",
       "\n",
       "    .dataframe tbody tr th {\n",
       "        vertical-align: top;\n",
       "    }\n",
       "\n",
       "    .dataframe thead th {\n",
       "        text-align: right;\n",
       "    }\n",
       "</style>\n",
       "<table border=\"1\" class=\"dataframe\">\n",
       "  <thead>\n",
       "    <tr style=\"text-align: right;\">\n",
       "      <th></th>\n",
       "      <th>X</th>\n",
       "      <th>Y</th>\n",
       "      <th>Predicted</th>\n",
       "    </tr>\n",
       "  </thead>\n",
       "  <tbody>\n",
       "    <tr>\n",
       "      <th>0</th>\n",
       "      <td>0</td>\n",
       "      <td>-5.164294</td>\n",
       "      <td>-0.814739</td>\n",
       "    </tr>\n",
       "    <tr>\n",
       "      <th>1</th>\n",
       "      <td>1</td>\n",
       "      <td>7.187078</td>\n",
       "      <td>-0.373162</td>\n",
       "    </tr>\n",
       "    <tr>\n",
       "      <th>2</th>\n",
       "      <td>2</td>\n",
       "      <td>2.598918</td>\n",
       "      <td>0.068416</td>\n",
       "    </tr>\n",
       "    <tr>\n",
       "      <th>3</th>\n",
       "      <td>3</td>\n",
       "      <td>-5.856688</td>\n",
       "      <td>0.509994</td>\n",
       "    </tr>\n",
       "    <tr>\n",
       "      <th>4</th>\n",
       "      <td>4</td>\n",
       "      <td>-4.895588</td>\n",
       "      <td>0.951571</td>\n",
       "    </tr>\n",
       "    <tr>\n",
       "      <th>...</th>\n",
       "      <td>...</td>\n",
       "      <td>...</td>\n",
       "      <td>...</td>\n",
       "    </tr>\n",
       "    <tr>\n",
       "      <th>95</th>\n",
       "      <td>95</td>\n",
       "      <td>49.707789</td>\n",
       "      <td>41.135143</td>\n",
       "    </tr>\n",
       "    <tr>\n",
       "      <th>96</th>\n",
       "      <td>96</td>\n",
       "      <td>49.637589</td>\n",
       "      <td>41.576721</td>\n",
       "    </tr>\n",
       "    <tr>\n",
       "      <th>97</th>\n",
       "      <td>97</td>\n",
       "      <td>41.902052</td>\n",
       "      <td>42.018299</td>\n",
       "    </tr>\n",
       "    <tr>\n",
       "      <th>98</th>\n",
       "      <td>98</td>\n",
       "      <td>36.435145</td>\n",
       "      <td>42.459876</td>\n",
       "    </tr>\n",
       "    <tr>\n",
       "      <th>99</th>\n",
       "      <td>99</td>\n",
       "      <td>39.450550</td>\n",
       "      <td>42.901454</td>\n",
       "    </tr>\n",
       "  </tbody>\n",
       "</table>\n",
       "<p>100 rows × 3 columns</p>\n",
       "</div>"
      ],
      "text/plain": [
       "     X          Y  Predicted\n",
       "0    0  -5.164294  -0.814739\n",
       "1    1   7.187078  -0.373162\n",
       "2    2   2.598918   0.068416\n",
       "3    3  -5.856688   0.509994\n",
       "4    4  -4.895588   0.951571\n",
       "..  ..        ...        ...\n",
       "95  95  49.707789  41.135143\n",
       "96  96  49.637589  41.576721\n",
       "97  97  41.902052  42.018299\n",
       "98  98  36.435145  42.459876\n",
       "99  99  39.450550  42.901454\n",
       "\n",
       "[100 rows x 3 columns]"
      ]
     },
     "execution_count": 44,
     "metadata": {},
     "output_type": "execute_result"
    }
   ],
   "source": [
    "simple_linear_regression(df)\n"
   ]
  },
  {
   "cell_type": "code",
   "execution_count": 45,
   "id": "ce044639",
   "metadata": {
    "ExecuteTime": {
     "end_time": "2022-03-03T14:53:33.638774Z",
     "start_time": "2022-03-03T14:53:33.513844Z"
    }
   },
   "outputs": [
    {
     "data": {
      "text/plain": [
       "<matplotlib.collections.PathCollection at 0x1ce9cbbaa60>"
      ]
     },
     "execution_count": 45,
     "metadata": {},
     "output_type": "execute_result"
    },
    {
     "data": {
      "image/png": "[encoded data removed]",
      "text/plain": [
       "<Figure size 432x288 with 1 Axes>"
      ]
     },
     "metadata": {
      "needs_background": "light"
     },
     "output_type": "display_data"
    }
   ],
   "source": [
    "plt.plot(df['X'], df['Predicted'] , color='red', label='regression line')     # regression line\n",
    "plt.scatter(df['X'], df['Y'], c='green', label='actual values')   # scatter plot showing actual data"
   ]
  },
  {
   "cell_type": "code",
   "execution_count": null,
   "id": "4aa1b1a9",
   "metadata": {},
   "outputs": [],
   "source": []
  }
 ],
 "metadata": {
  "kernelspec": {
   "display_name": "Python 3 (ipykernel)",
   "language": "python",
   "name": "python3"
  },
  "language_info": {
   "codemirror_mode": {
    "name": "ipython",
    "version": 3
   },
   "file_extension": ".py",
   "mimetype": "text/x-python",
   "name": "python",
   "nbconvert_exporter": "python",
   "pygments_lexer": "ipython3",
   "version": "3.9.5"
  }
 },
 "nbformat": 4,
 "nbformat_minor": 5
}
